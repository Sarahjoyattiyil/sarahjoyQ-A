{
  "nbformat": 4,
  "nbformat_minor": 0,
  "metadata": {
    "colab": {
      "name": "sarahjoyQ&A.ipynb",
      "provenance": [],
      "collapsed_sections": []
    },
    "kernelspec": {
      "name": "python3",
      "display_name": "Python 3"
    },
    "language_info": {
      "name": "python"
    }
  },
  "cells": [
    {
      "cell_type": "markdown",
      "metadata": {
        "id": "xuYmfuIsVNcW"
      },
      "source": [
        ""
      ]
    },
    {
      "cell_type": "markdown",
      "metadata": {
        "id": "CP5FLfFDVTiX"
      },
      "source": [
        "1. Complete the following code to find the area of an equilateral triangle. Output should be as displayed\n",
        "\n"
      ]
    },
    {
      "cell_type": "code",
      "metadata": {
        "id": "sksPP71nVa8z"
      },
      "source": [
        ""
      ],
      "execution_count": null,
      "outputs": []
    },
    {
      "cell_type": "code",
      "metadata": {
        "id": "rP2qFD_SlrS_",
        "colab": {
          "base_uri": "https://localhost:8080/"
        },
        "outputId": "bf2adc70-3842-4f73-ee59-e3cd91227848"
      },
      "source": [
        "import math\n",
        "side = float(input(\"Enter the side of the equilateral triangle: \"))\n",
        "area = ((math.sqrt(3))/4)*pow(side,2)\n",
        "print(\"Area=\",round(area,3))\n",
        "\n"
      ],
      "execution_count": 2,
      "outputs": [
        {
          "output_type": "stream",
          "name": "stdout",
          "text": [
            "Enter the side of the equilateral triangle: 4\n",
            "Area= 6.928\n"
          ]
        }
      ]
    },
    {
      "cell_type": "code",
      "metadata": {
        "id": "rQUgYxPdVXaO"
      },
      "source": [
        ""
      ],
      "execution_count": null,
      "outputs": []
    },
    {
      "cell_type": "markdown",
      "metadata": {
        "id": "o0V82OelXjad"
      },
      "source": [
        "2. Write a program to count the number of each characters in a string\n"
      ]
    },
    {
      "cell_type": "code",
      "metadata": {
        "colab": {
          "base_uri": "https://localhost:8080/"
        },
        "id": "AcabjyCnXqJb",
        "outputId": "3ed7281f-2f25-4a96-e195-11174a4c2a48"
      },
      "source": [
        "inp_str=input(\"enter the string:\")\n",
        "\n",
        "x=set()\n",
        "result=''\n",
        "\n",
        "for i in inp_str:\n",
        "    if i not in x:\n",
        "        x.add(i)\n",
        "        result=result+str(inp_str.count(i))+i\n",
        "        print(\"The string is:\"+result)"
      ],
      "execution_count": 3,
      "outputs": [
        {
          "output_type": "stream",
          "name": "stdout",
          "text": [
            "enter the string:sarah\n",
            "The string is:1s\n",
            "The string is:1s2a\n",
            "The string is:1s2a1r\n",
            "The string is:1s2a1r1h\n"
          ]
        }
      ]
    },
    {
      "cell_type": "code",
      "metadata": {
        "id": "wQ1OcFbUfI3R"
      },
      "source": [
        ""
      ],
      "execution_count": null,
      "outputs": []
    },
    {
      "cell_type": "markdown",
      "metadata": {
        "id": "dp696a6lfOSn"
      },
      "source": [
        "Write a program to find the area and perimeter of a rectangle using functions\n",
        "\n"
      ]
    },
    {
      "cell_type": "code",
      "metadata": {
        "colab": {
          "base_uri": "https://localhost:8080/"
        },
        "id": "ZXdlwgg8faHK",
        "outputId": "e578b6ef-c760-4210-adf7-922b82a0e4fb"
      },
      "source": [
        "def area(a,b):\n",
        "    print(\"Area=\",a*b)\n",
        "    \n",
        "def perimeter(a,b):\n",
        "    print(\"Perimeter=\",2*(a+b))\n",
        "    \n",
        "\n",
        "a=float(input(\"The length of the rectangele:\"))\n",
        "b=float(input(\"The width of the rectangle:\"))   \n",
        "\n",
        "\n",
        "area(a,b)\n",
        "perimeter(a,b)"
      ],
      "execution_count": 1,
      "outputs": [
        {
          "output_type": "stream",
          "name": "stdout",
          "text": [
            "The length of the rectangele:6\n",
            "The width of the rectangle:4\n",
            "Area= 24.0\n",
            "Perimeter= 20.0\n"
          ]
        }
      ]
    },
    {
      "cell_type": "markdown",
      "metadata": {
        "id": "PiundHyKJmkd"
      },
      "source": [
        "Write a program to print the fibonacci series till a specified number\n"
      ]
    },
    {
      "cell_type": "code",
      "metadata": {
        "colab": {
          "base_uri": "https://localhost:8080/"
        },
        "id": "bKjRzY81kk8M",
        "outputId": "23b1a3e6-af56-4161-f913-d7b42b104851"
      },
      "source": [
        "fib=int(input(\"Enter the number of fibonacci no:\"))\n",
        "    \n",
        "a=0\n",
        "b=1\n",
        "print(a)\n",
        "print(b)\n",
        "\n",
        "for i in range(2, fib):\n",
        "    \n",
        "    c=a+b\n",
        "    a=b\n",
        "    b=c\n",
        "    print(c)\n",
        "    "
      ],
      "execution_count": 2,
      "outputs": [
        {
          "output_type": "stream",
          "name": "stdout",
          "text": [
            "Enter the number of fibonacci no:11\n",
            "0\n",
            "1\n",
            "1\n",
            "2\n",
            "3\n",
            "5\n",
            "8\n",
            "13\n",
            "21\n",
            "34\n",
            "55\n"
          ]
        }
      ]
    },
    {
      "cell_type": "markdown",
      "metadata": {
        "id": "AiaUJACeO8PT"
      },
      "source": [
        "Complete the following code to find the minimum of 3 number using cinditional statements. Output should be as displayed\n"
      ]
    },
    {
      "cell_type": "code",
      "metadata": {
        "colab": {
          "base_uri": "https://localhost:8080/"
        },
        "id": "gXLSv0dqQ2RW",
        "outputId": "15f5ac60-24c8-4b29-a63e-c462a4920700"
      },
      "source": [
        "a,b,c = input(\"Enter three numbers followed by  : \").split()\n",
        "\n",
        "print(\"First number :\",a)\n",
        "print(\"Second number :\",b)\n",
        "print(\"Third number :\",c)\n",
        "\n",
        "if(a==b==c):\n",
        "    print(\"Entered numbers are equal!!!\")\n",
        "elif(a<b and a<c):\n",
        "    print(a,\" is smallest\")\n",
        "elif(b<a and b<c):\n",
        "    print(b,\" is smallest\")\n",
        "elif(c<a and c<b):\n",
        "    print(c,\" is smallest\")\n",
        "    "
      ],
      "execution_count": 5,
      "outputs": [
        {
          "output_type": "stream",
          "name": "stdout",
          "text": [
            "Enter three numbers followed by  : 3 -11 12\n",
            "First number : 3\n",
            "Second number : -11\n",
            "Third number : 12\n",
            "-11  is smallest\n"
          ]
        }
      ]
    },
    {
      "cell_type": "markdown",
      "metadata": {
        "id": "DTB2w7RpQ48c"
      },
      "source": [
        ""
      ]
    },
    {
      "cell_type": "markdown",
      "metadata": {
        "id": "CZXhj-E_RS8c"
      },
      "source": [
        "6. Write a program to print star pyramind. The number of rows should be taken as input from the user"
      ]
    },
    {
      "cell_type": "code",
      "metadata": {
        "colab": {
          "base_uri": "https://localhost:8080/"
        },
        "id": "Ei8W25cORVfI",
        "outputId": "94791c2d-e2e6-4c81-906b-a5ac974b4ff5"
      },
      "source": [
        "r=int(input(\"Enter number of rows:\"))\n",
        "\n",
        "for i in range(0,r):\n",
        "    for j in range(i+1):\n",
        "        print(\"*\",end=\"\")\n",
        "    print()"
      ],
      "execution_count": 6,
      "outputs": [
        {
          "output_type": "stream",
          "name": "stdout",
          "text": [
            "Enter number of rows:6\n",
            "*\n",
            "**\n",
            "***\n",
            "****\n",
            "*****\n",
            "******\n"
          ]
        }
      ]
    },
    {
      "cell_type": "markdown",
      "metadata": {
        "id": "uxb34Y48UG-o"
      },
      "source": [
        "7. Complete the following code to convert hour into seconds. Output should be as displayed\n"
      ]
    },
    {
      "cell_type": "code",
      "metadata": {
        "colab": {
          "base_uri": "https://localhost:8080/"
        },
        "id": "ETqQ_q7DVGc-",
        "outputId": "fca2bb1a-c477-40a0-daaf-1e93db02ec0d"
      },
      "source": [
        "def to_seconds(t):\n",
        "    t=t*3600\n",
        "    return t\n",
        "time_in_hours = int(input(\"Enter time in hours:\"))\n",
        "print(time_in_hours ,\" Hour is equal to\" ,to_seconds(time_in_hours) ,\" Seconds\")\n"
      ],
      "execution_count": 7,
      "outputs": [
        {
          "output_type": "stream",
          "name": "stdout",
          "text": [
            "Enter time in hours:12\n",
            "12  Hour is equal to 43200  Seconds\n"
          ]
        }
      ]
    },
    {
      "cell_type": "markdown",
      "metadata": {
        "id": "JdOtaLwBXnFl"
      },
      "source": [
        "8. Write a program to print multiplication table as below\n"
      ]
    },
    {
      "cell_type": "code",
      "metadata": {
        "colab": {
          "base_uri": "https://localhost:8080/"
        },
        "id": "JpST4kykXnx0",
        "outputId": "4f08971d-87f8-4773-b309-f4d2a2f463cf"
      },
      "source": [
        "n=int(input(\"Enter a number to find the mutiplication table: \"))\n",
        "for i in range(1, 11):\n",
        "    print(n,\"x\",i ,\"=\",n*i)\n",
        "    "
      ],
      "execution_count": 8,
      "outputs": [
        {
          "output_type": "stream",
          "name": "stdout",
          "text": [
            "Enter a number to find the mutiplication table: 7\n",
            "7 x 1 = 7\n",
            "7 x 2 = 14\n",
            "7 x 3 = 21\n",
            "7 x 4 = 28\n",
            "7 x 5 = 35\n",
            "7 x 6 = 42\n",
            "7 x 7 = 49\n",
            "7 x 8 = 56\n",
            "7 x 9 = 63\n",
            "7 x 10 = 70\n"
          ]
        }
      ]
    },
    {
      "cell_type": "markdown",
      "metadata": {
        "id": "sSu99QWGX3LD"
      },
      "source": [
        "9. Write a program to take your 5 favorite food as list and print each as 'I like Biriyani'"
      ]
    },
    {
      "cell_type": "code",
      "metadata": {
        "colab": {
          "base_uri": "https://localhost:8080/"
        },
        "id": "VIOIiHRkX42H",
        "outputId": "9ba68edd-8c4b-4133-bd3b-9872872c6f55"
      },
      "source": [
        "favfood=input(\"Enter your favorite food: \").split()\n",
        "for i in favfood:\n",
        "    print(\"I like\",i,\".\")"
      ],
      "execution_count": 10,
      "outputs": [
        {
          "output_type": "stream",
          "name": "stdout",
          "text": [
            "Enter your favorite food:  icecream biriyani pizza orange apple\n",
            "I like icecream .\n",
            "I like biriyani .\n",
            "I like pizza .\n",
            "I like orange .\n",
            "I like apple .\n"
          ]
        }
      ]
    },
    {
      "cell_type": "markdown",
      "metadata": {
        "id": "0krdBtYaZmqx"
      },
      "source": [
        "Find error(s) in the following code(if any) and rewrite code.\n"
      ]
    },
    {
      "cell_type": "code",
      "metadata": {
        "colab": {
          "base_uri": "https://localhost:8080/"
        },
        "id": "TfmBfpxrZya5",
        "outputId": "4ab7117d-7431-455f-ced5-81516c0e7de2"
      },
      "source": [
        "x= int(input(\"Enter value of x:\"))\n",
        "for y in range (0,10):\n",
        "     if x==y:\n",
        "          print(\"They are equal\")\n",
        "     else:\n",
        "         print( \"They are unequal\")\n",
        "         "
      ],
      "execution_count": 11,
      "outputs": [
        {
          "output_type": "stream",
          "name": "stdout",
          "text": [
            "Enter value of x:7\n",
            "They are unequal\n",
            "They are unequal\n",
            "They are unequal\n",
            "They are unequal\n",
            "They are unequal\n",
            "They are unequal\n",
            "They are unequal\n",
            "They are equal\n",
            "They are unequal\n",
            "They are unequal\n"
          ]
        }
      ]
    }
  ]
}